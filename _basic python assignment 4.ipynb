{
 "cells": [
  {
   "cell_type": "markdown",
   "id": "b1bf5cfb",
   "metadata": {},
   "source": [
    "1. What exactly is []?\n",
    "   The empty list value, which is a list value that contains no items. This is similar to how '' is the empty string value."
   ]
  },
  {
   "cell_type": "markdown",
   "id": "ed9e269d",
   "metadata": {},
   "source": [
    "2. In a list of values stored in a variable called spam, how would you assign the value 'hello' as the third value? (Assume    [2, 4, 6, 8, 10] are in spam.)\n",
    "   Let's pretend the spam includes the list ['a', 'b', 'c', 'd'] for the next three queries.\n",
    "\n",
    "   Spam[2] = 'hello' (Notice that the third value in a list is at index 2 because the first index is 0.)"
   ]
  },
  {
   "cell_type": "markdown",
   "id": "1884fc6c",
   "metadata": {},
   "source": [
    "3. What is the value of spam[int(int('3' * 2) / 11)]?\n",
    "   'd' (Note that '3' * 2 is the string '33', which is passed to int() before being divided by 11. This eventually            evaluates to 3."
   ]
  },
  {
   "cell_type": "markdown",
   "id": "c5705a15",
   "metadata": {},
   "source": [
    "4. What is the value of spam[-1]?\n",
    "   spam = spam + 1 means to add 1 to the previous value of spam and assign the new value to spam variable again."
   ]
  },
  {
   "cell_type": "markdown",
   "id": "251fb62f",
   "metadata": {},
   "source": [
    "5. What is the value of spam[:2]?Let's pretend bacon has the list [3.14, 'cat,' 11, 'cat,' True] for the next three            questions.\n",
    "   ['a','b']"
   ]
  },
  {
   "cell_type": "markdown",
   "id": "806878d9",
   "metadata": {},
   "source": [
    "6. What is the value of bacon.index('cat')?\n",
    "   1"
   ]
  },
  {
   "cell_type": "markdown",
   "id": "b3a95fd4",
   "metadata": {},
   "source": [
    "7. How does bacon.append(99) change the look of the list value in bacon?\n",
    "   [3.14, 'cat', 11, 'cat', True, 99]"
   ]
  },
  {
   "cell_type": "markdown",
   "id": "3226cf00",
   "metadata": {},
   "source": [
    "8. How does bacon.remove('cat') change the look of the list in bacon?\n",
    "   [3.14, 11, 'cat', True]"
   ]
  },
  {
   "cell_type": "markdown",
   "id": "abb18d61",
   "metadata": {},
   "source": [
    "9. What are the list concatenation and list replication operators?\n",
    "   The operator for list concatenation is +, while the operator for replication is *. "
   ]
  },
  {
   "cell_type": "markdown",
   "id": "b9ae9b49",
   "metadata": {},
   "source": [
    "10. What is difference between the list methods append() and insert()?\n",
    "    While append() will add values only to the end of a list, insert() can add them anywhere in the list."
   ]
  },
  {
   "cell_type": "markdown",
   "id": "8dfe7cd2",
   "metadata": {},
   "source": [
    "11. What are the two methods for removing items from a list?\n",
    "    The del statement and the remove() list method are two ways to remove values from a list."
   ]
  },
  {
   "cell_type": "markdown",
   "id": "156157bd",
   "metadata": {},
   "source": [
    "12. Describe how list values and string values are identical?\n",
    "    Both lists and strings can be passed to len(), have indexes and slices, be used in for loops, be concatenated or     re     replicated, and be used with the in and not in operators."
   ]
  },
  {
   "cell_type": "markdown",
   "id": "8c6e9ff3",
   "metadata": {},
   "source": [
    "13. What's the difference between tuples and lists?\n",
    "    Lists are mutable; they can have values added, removed, or changed. Tuples are immutable; they cannot be changed at all. Also, tuples are written using parentheses, ( and ), while lists use the square brackets, [ and ]."
   ]
  },
  {
   "cell_type": "markdown",
   "id": "6fae93db",
   "metadata": {},
   "source": [
    "14. How do you type a tuple value that only contains the integer 42?\n",
    "    (42,) ,The trailing comma is mandatory."
   ]
  },
  {
   "cell_type": "markdown",
   "id": "43858697",
   "metadata": {},
   "source": [
    "15. How do you get a list value's tuple form? How do you get a tuple value's list form?\n",
    "    The tuple() and list() functions, respectively."
   ]
  },
  {
   "cell_type": "markdown",
   "id": "b2dec784",
   "metadata": {},
   "source": [
    "16. Variables that \"contain\" list values are not necessarily lists themselves. Instead, what do they contain?\n",
    "    They contain references to list values."
   ]
  },
  {
   "cell_type": "markdown",
   "id": "8e939274",
   "metadata": {},
   "source": [
    "17. How do you distinguish between copy.copy() and copy.deepcopy()?\n",
    "    The copy.copy() function will do a shallow copy of a list, while the copy.deepcopy() function will do a deep copy of a     list. That is, only copy.deepcopy() will duplicate any lists inside the list."
   ]
  }
 ],
 "metadata": {
  "kernelspec": {
   "display_name": "Python 3 (ipykernel)",
   "language": "python",
   "name": "python3"
  },
  "language_info": {
   "codemirror_mode": {
    "name": "ipython",
    "version": 3
   },
   "file_extension": ".py",
   "mimetype": "text/x-python",
   "name": "python",
   "nbconvert_exporter": "python",
   "pygments_lexer": "ipython3",
   "version": "3.9.7"
  }
 },
 "nbformat": 4,
 "nbformat_minor": 5
}
